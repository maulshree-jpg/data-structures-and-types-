{
  "nbformat": 4,
  "nbformat_minor": 0,
  "metadata": {
    "colab": {
      "provenance": []
    },
    "kernelspec": {
      "name": "python3",
      "display_name": "Python 3"
    },
    "language_info": {
      "name": "python"
    }
  },
  "cells": [
    {
      "cell_type": "markdown",
      "source": [
        "# **Data  type and structues**"
      ],
      "metadata": {
        "id": "h7x1Rj1JL_wA"
      }
    },
    {
      "cell_type": "markdown",
      "source": [
        "**Ques 1 -What are data structures, and why are they important?**\n",
        "\n",
        "-> Data structures are ways of organizing and storing data in a computer so that it can be accessed and modified efficiently.They provide a systematic way to manage data and are used in nearly every program or software system. The importance of data structure are as following -\n",
        " - They help store and organize data logically, making it easier to access and update.\n",
        " - Choosing the right data structure can make your program much faster and use less memory."
      ],
      "metadata": {
        "id": "u_IOWww2Mb3F"
      }
    },
    {
      "cell_type": "markdown",
      "source": [
        "**Ques 2- Explain the difference between mutable and immutable data types with examples?**\n",
        "\n",
        "-> Mutable data is that data which can be easily modified . Example are - list , set , dictionary\n"
      ],
      "metadata": {
        "id": "7LoFgogkOut5"
      }
    },
    {
      "cell_type": "code",
      "source": [
        "#example of mutable data type\n",
        "my_list =[1,3,\"hello\",\"mango\"]\n",
        "print(\"before change\",my_list)\n",
        "my_list[3]=\"world\"\n",
        "print(\"after change\",my_list)"
      ],
      "metadata": {
        "colab": {
          "base_uri": "https://localhost:8080/"
        },
        "id": "iDDbMfK4QQkQ",
        "outputId": "3f50f305-2cc4-4ad1-ce94-56b9f75e9ce4"
      },
      "execution_count": null,
      "outputs": [
        {
          "output_type": "stream",
          "name": "stdout",
          "text": [
            "before change [1, 3, 'hello', 'mango']\n",
            "after change [1, 3, 'hello', 'world']\n"
          ]
        }
      ]
    },
    {
      "cell_type": "markdown",
      "source": [
        "-> Immutable data is that data which cannot be modified .Example are- tuple , string ,float"
      ],
      "metadata": {
        "id": "MCqAVh4fRZUX"
      }
    },
    {
      "cell_type": "code",
      "source": [
        "#example of immutable data type\n",
        "a =\"hello\"\n",
        "print(a)\n",
        "a[3]=\"o\"\n",
        "#then it will show error because string is immutable"
      ],
      "metadata": {
        "id": "TLzfUrcVSf_b"
      },
      "execution_count": null,
      "outputs": []
    },
    {
      "cell_type": "markdown",
      "source": [
        "**Ques3 -  What are the main differences between lists and tuples in Python?**\n",
        "\n",
        "-> List is a mutable data type (modify easily) and tuple is an immutable data type(cannot be modified) .\n",
        "syntax of list is [ ] and syntax of tuple is( )\n",
        "\n",
        "example of list : my_list =[1,3,4]\n",
        "\n",
        "example of tuple: my_tuple=(1,2,3,4)"
      ],
      "metadata": {
        "id": "xfulF21ySxfc"
      }
    },
    {
      "cell_type": "markdown",
      "source": [
        "**Ques4 - Describe how dictionaries store data**\n",
        "\n",
        "->A dictionary in Python stores data as key-value pairs. Elements are not stored in a specific order.Each key acts as a unique identifier for retrieving an associated value."
      ],
      "metadata": {
        "id": "tHkRFQLKUe6H"
      }
    },
    {
      "cell_type": "code",
      "source": [
        "#example of dictionary\n",
        "result = {\"name\":\"anuj\", \"age\":20 ,\"grade\":\"A\"}\n",
        "print(result)"
      ],
      "metadata": {
        "colab": {
          "base_uri": "https://localhost:8080/"
        },
        "id": "CL8sHaO2VpnV",
        "outputId": "3f81d82f-04af-4b93-8488-7c8424f9f903"
      },
      "execution_count": null,
      "outputs": [
        {
          "output_type": "stream",
          "name": "stdout",
          "text": [
            "{'name': 'anuj', 'age': 20, 'grade': 'A'}\n"
          ]
        }
      ]
    },
    {
      "cell_type": "code",
      "source": [
        "result[\"age\"]"
      ],
      "metadata": {
        "colab": {
          "base_uri": "https://localhost:8080/"
        },
        "id": "k3ZOyZUdWh84",
        "outputId": "30c0e620-2aca-4b32-8803-3c3f75790a96"
      },
      "execution_count": null,
      "outputs": [
        {
          "output_type": "execute_result",
          "data": {
            "text/plain": [
              "20"
            ]
          },
          "metadata": {},
          "execution_count": 12
        }
      ]
    },
    {
      "cell_type": "markdown",
      "source": [
        "**Ques5 -Why might you use a set instead of a list in Python?**\n",
        "\n",
        "-> 1- No Duplicate Values:\n",
        "\n",
        "- Set automatically removes duplicates.\n",
        "\n",
        "- List can have duplicates.\n",
        "\n",
        "2- Sets support powerful operations like:\n",
        "\n",
        "- Union (|)\n",
        "\n",
        "- Intersection (&)\n",
        "\n",
        "- Difference (-)\n",
        "\n",
        "3- Set operates faster than list"
      ],
      "metadata": {
        "id": "9TSLI8G0Whfd"
      }
    },
    {
      "cell_type": "markdown",
      "source": [
        "**Ques6 - What is a string in Python, and how is it different from a list?**\n",
        "\n",
        "- String is an immutable data type whereas list is a mutable data type.\n",
        "-  String is a sequence of characters enclosed in quotes (' ' or \" \").A list is a sequence of items (which can be of any type), enclosed in square brackets [ ].\n",
        "\n",
        "example of string: x =\"hello\"\n",
        "\n",
        "example of list : x= [1,2,3,\"hello\",\"world\"]"
      ],
      "metadata": {
        "id": "poIaQIvIVkL_"
      }
    },
    {
      "cell_type": "markdown",
      "source": [
        "**Ques7- How do tuples ensure data integrity in Python?**\n",
        "\n",
        "Once you create a tuple, you cannot change, add, or remove any of its elements.\n",
        "\n",
        "This immutability is what helps protect the data from accidental changes, ensuring data integrity.\n"
      ],
      "metadata": {
        "id": "-yHr-hQCaRgU"
      }
    },
    {
      "cell_type": "markdown",
      "source": [
        "**Ques8- What is a hash table, and how does it relate to dictionaries in Python?**\n",
        "\n",
        "A hash table is a data structure used to store key-value pairs.\n",
        "It allows for very fast access to data using a unique key.\n",
        "\n",
        "A dictionary in Python is built using a hash table."
      ],
      "metadata": {
        "id": "ksTXIgq3sAJZ"
      }
    },
    {
      "cell_type": "markdown",
      "source": [
        "**Ques9 -Can lists contain different data types in Python?**\n",
        "\n",
        "-> yes ,list contains different data type.\n",
        "\n",
        "for example:  my_list= [1 ,2 ,\"hello\" ,7.3 ,[1,3] ,True ]\n",
        "\n",
        "here:\n",
        "- 1,2 is integer\n",
        "- \"hello\" is string\n",
        "- 7.3 is float value\n",
        "- True is boolean\n",
        "- [1,3] is another list"
      ],
      "metadata": {
        "id": "RSmroWMiyD9l"
      }
    },
    {
      "cell_type": "markdown",
      "source": [
        "**Ques10 -Explain why strings are immutable in Python?**\n",
        "\n",
        "Strings are immutable because once you create a string, you cannot change its characters.\n",
        "\n",
        "- strings often store important data (names, passwords, file paths), immutability prevents accidental changes.\n",
        "- This makes string handling faster and more memory-efficient.\n",
        "\n"
      ],
      "metadata": {
        "id": "aGuHTpem0Eod"
      }
    },
    {
      "cell_type": "code",
      "source": [
        "#example\n",
        "x =\"hello\"\n",
        "x[2]=\"o\"\n",
        "#it will show error because it is immutable"
      ],
      "metadata": {
        "id": "EzEWG-CJ4Ckp"
      },
      "execution_count": null,
      "outputs": []
    },
    {
      "cell_type": "markdown",
      "source": [
        "**Ques11- What advantages do dictionaries offer over lists for certain tasks?**\n",
        "\n",
        "->Advantages :\n",
        "- Dictionary stores the key values while list is collection of elements.\n",
        "- In dictionary keys must be unique, list supports duplicates.\n",
        "- Dictionary has fast lookups, while list has slower lookups\n",
        "- Dictionaries can store different data types as values, and they can be easily modified by adding, updating, or removing key-value pairs."
      ],
      "metadata": {
        "id": "CwUqEToy4kuJ"
      }
    },
    {
      "cell_type": "markdown",
      "source": [
        "**Ques12-  Describe a scenario where using a tuple would be preferable over a list?**\n",
        "- A tuple is immutable (cannot be changed), so it maintains intigrity.\n",
        "- Tuples take up less memory and are a bit faster than lists.\n",
        "\n",
        "- tuple can be used as a key in dictionary, but list cannot be used as a key."
      ],
      "metadata": {
        "id": "f6tI0H3WIMHx"
      }
    },
    {
      "cell_type": "markdown",
      "source": [
        "**Ques13 -How do sets handle duplicate values in Python?**\n",
        "\n",
        "-> when we add duplicate value in set , it automatically removes the duplicate values. it has unique values"
      ],
      "metadata": {
        "id": "x0hwycPMNpHE"
      }
    },
    {
      "cell_type": "code",
      "source": [
        "# example\n",
        "set1 = {1,2,3,4,5,1,2,3}\n",
        "print(set1)"
      ],
      "metadata": {
        "colab": {
          "base_uri": "https://localhost:8080/"
        },
        "id": "-jBlVAPeaPPt",
        "outputId": "cd522ad8-63cf-463f-df42-256e39d182d0"
      },
      "execution_count": null,
      "outputs": [
        {
          "output_type": "stream",
          "name": "stdout",
          "text": [
            "{1, 2, 3, 4, 5}\n"
          ]
        }
      ]
    },
    {
      "cell_type": "markdown",
      "source": [
        "**Ques14- How does the “in” keyword work differently for lists and dictionaries?**\n",
        "\n",
        "In list, \"in\" keyword checks the value in the list .  "
      ],
      "metadata": {
        "id": "4_EdRvADOk82"
      }
    },
    {
      "cell_type": "code",
      "source": [
        "#example\n",
        "my_list= [\"mango\",\"peach\",\"apple\"]\n",
        "\"apple\" in my_list"
      ],
      "metadata": {
        "colab": {
          "base_uri": "https://localhost:8080/"
        },
        "id": "l1P3QezLaCdR",
        "outputId": "ee6353d8-cd7e-448e-c24c-f609e037d09c"
      },
      "execution_count": null,
      "outputs": [
        {
          "output_type": "execute_result",
          "data": {
            "text/plain": [
              "True"
            ]
          },
          "metadata": {},
          "execution_count": 14
        }
      ]
    },
    {
      "cell_type": "code",
      "source": [
        "my_list= [\"mango\",\"peach\",\"apple\"]\n",
        "\"plum\" in my_list"
      ],
      "metadata": {
        "colab": {
          "base_uri": "https://localhost:8080/"
        },
        "id": "kSOBRwO6Ppxq",
        "outputId": "b372619b-f455-460d-f9be-282dd3f141eb"
      },
      "execution_count": null,
      "outputs": [
        {
          "output_type": "execute_result",
          "data": {
            "text/plain": [
              "False"
            ]
          },
          "metadata": {},
          "execution_count": 15
        }
      ]
    },
    {
      "cell_type": "markdown",
      "source": [
        "In dictionary, \"in\" keyword checks ony key in dictionary."
      ],
      "metadata": {
        "id": "EVnHYZKmPz-V"
      }
    },
    {
      "cell_type": "code",
      "source": [
        "#example\n",
        "result = {\"name\":\"anuj\", \"age\":20 ,\"grade\":\"A\"}\n",
        "\"name\" in result"
      ],
      "metadata": {
        "colab": {
          "base_uri": "https://localhost:8080/"
        },
        "id": "ygnX9_1RQMVi",
        "outputId": "848faa7f-a2d3-416c-c741-fba5704f61f9"
      },
      "execution_count": null,
      "outputs": [
        {
          "output_type": "execute_result",
          "data": {
            "text/plain": [
              "True"
            ]
          },
          "metadata": {},
          "execution_count": 16
        }
      ]
    },
    {
      "cell_type": "code",
      "source": [
        "result = {\"name\":\"anuj\", \"age\":20 ,\"grade\":\"A\"}\n",
        "\"anuj\" in result"
      ],
      "metadata": {
        "colab": {
          "base_uri": "https://localhost:8080/"
        },
        "id": "5wR8XexTQSS0",
        "outputId": "e9f69dcb-33a0-4bb5-a966-7410c28eeaff"
      },
      "execution_count": null,
      "outputs": [
        {
          "output_type": "execute_result",
          "data": {
            "text/plain": [
              "False"
            ]
          },
          "metadata": {},
          "execution_count": 17
        }
      ]
    },
    {
      "cell_type": "markdown",
      "source": [
        "**Ques 15-  Can you modify the elements of a tuple? Explain why or why not?**\n",
        "\n",
        "-> We cannot modify value in tuple because:\n",
        " - tuple is immutable.\n",
        " - it protects the data.\n",
        " - Faster and memory-efficient\n",
        " - Can be used as dictionary keys\n",
        "  "
      ],
      "metadata": {
        "id": "llGMljJkQISD"
      }
    },
    {
      "cell_type": "markdown",
      "source": [
        "**Ques16- What is a nested dictionary, and give an example of its use case?**\n",
        "\n",
        "-> A nested dictionary means a dictionary inside another dictionary.\n",
        "\n",
        "It lets us store complex and grouped data"
      ],
      "metadata": {
        "id": "A83OQsdESUph"
      }
    },
    {
      "cell_type": "code",
      "source": [
        "#example\n",
        "result = {\n",
        "    \"student1\": {\"name\": \"Alice\", \"age\": 18, \"grade\": \"A\"},\n",
        "    \"student2\": {\"name\": \"Bob\", \"age\": 17, \"grade\": \"B\"},\n",
        "}\n",
        "print(result)"
      ],
      "metadata": {
        "colab": {
          "base_uri": "https://localhost:8080/"
        },
        "id": "VKa1RH5eS_BK",
        "outputId": "19d6d9f1-6509-416f-975d-a43987c0f0b2"
      },
      "execution_count": null,
      "outputs": [
        {
          "output_type": "stream",
          "name": "stdout",
          "text": [
            "{'student1': {'name': 'Alice', 'age': 18, 'grade': 'A'}, 'student2': {'name': 'Bob', 'age': 17, 'grade': 'B'}}\n"
          ]
        }
      ]
    },
    {
      "cell_type": "code",
      "source": [
        "print(result[\"student1\"][\"name\"])"
      ],
      "metadata": {
        "colab": {
          "base_uri": "https://localhost:8080/"
        },
        "id": "c1VGjfaDTSrA",
        "outputId": "6eba1098-2ae3-48cc-f18b-e43deadd20cc"
      },
      "execution_count": null,
      "outputs": [
        {
          "output_type": "stream",
          "name": "stdout",
          "text": [
            "Alice\n"
          ]
        }
      ]
    },
    {
      "cell_type": "markdown",
      "source": [
        "**Ques17-  Describe the time complexity of accessing elements in a dictionary?**\n",
        "\n",
        "The time complexity of accessing elements in a dictionary is generally\n",
        "\n",
        "- O(1) for  average case\n",
        "- O(n) for  worst case\n"
      ],
      "metadata": {
        "id": "21-MBv5UTxj_"
      }
    },
    {
      "cell_type": "markdown",
      "source": [
        "**Ques18 - In what situations are lists preferred over dictionaries?**\n",
        "\n",
        "Lista are preferred over dictionaries:\n",
        "-  when we have ordered data.\n",
        "- when we need to store duplicate data.\n",
        "- when we want to access by index and data is without labels."
      ],
      "metadata": {
        "id": "U3nJbcxVS-aq"
      }
    },
    {
      "cell_type": "markdown",
      "source": [
        "**Ques19 - Why are dictionaries considered unordered, and how does that affect data retrieval?**\n",
        "\n",
        "-> Dictionaries are considered unordered because they don't guarantee a specific order for their elements (key-value pairs) when you iterate through them or retrieve data.\n",
        "\n",
        "Factors affecting retrival:\n",
        "- cannot access data by indexing\n",
        "- access only by keys\n",
        "- not good for step by step ordered data\n"
      ],
      "metadata": {
        "id": "4_R5coBJV_la"
      }
    },
    {
      "cell_type": "markdown",
      "source": [
        "**Ques20 -  Explain the difference between a list and a dictionary in terms of data retrieval?**\n",
        "\n",
        "-> Difference are:\n",
        " - In list, data is accessed by index numbers, but in dictionary data is accessed by keys.\n",
        " - List is suitable for ordered data ,dictionary is suitable for labed data.\n",
        "  "
      ],
      "metadata": {
        "id": "eixtEJu4cTfg"
      }
    },
    {
      "cell_type": "code",
      "source": [
        "#example of list\n",
        "my_list= [1,2,3,4]\n",
        "my_list[2]"
      ],
      "metadata": {
        "colab": {
          "base_uri": "https://localhost:8080/"
        },
        "id": "J0t8XuFmewTG",
        "outputId": "ee86889d-b166-442d-e234-0f237ce3095f"
      },
      "execution_count": null,
      "outputs": [
        {
          "output_type": "execute_result",
          "data": {
            "text/plain": [
              "3"
            ]
          },
          "metadata": {},
          "execution_count": 26
        }
      ]
    },
    {
      "cell_type": "code",
      "source": [
        "#example of dictionary\n",
        "result = {\"name\":\"anuj\", \"age\":20 ,\"grade\":\"A\"}\n",
        "result[\"name\"]"
      ],
      "metadata": {
        "colab": {
          "base_uri": "https://localhost:8080/",
          "height": 35
        },
        "id": "9NkzHH4-e25g",
        "outputId": "702671ea-601d-4672-987c-9584d53fe62a"
      },
      "execution_count": null,
      "outputs": [
        {
          "output_type": "execute_result",
          "data": {
            "text/plain": [
              "'anuj'"
            ],
            "application/vnd.google.colaboratory.intrinsic+json": {
              "type": "string"
            }
          },
          "metadata": {},
          "execution_count": 27
        }
      ]
    },
    {
      "cell_type": "markdown",
      "source": [
        "# **Practical questions**"
      ],
      "metadata": {
        "id": "Iyp74NnXe-iC"
      }
    },
    {
      "cell_type": "markdown",
      "source": [
        "**Ques1 - Write a code to create a string with your name and print it**"
      ],
      "metadata": {
        "id": "0on_pUkJfFq6"
      }
    },
    {
      "cell_type": "code",
      "source": [
        "name = \"maulshree\"\n",
        "print(\"my name is \",name)"
      ],
      "metadata": {
        "colab": {
          "base_uri": "https://localhost:8080/"
        },
        "id": "RrGiNBbgfQMB",
        "outputId": "c1d75b91-70a8-4ae0-b5d7-9e2a15d64629"
      },
      "execution_count": null,
      "outputs": [
        {
          "output_type": "stream",
          "name": "stdout",
          "text": [
            "my name is  maulshree\n"
          ]
        }
      ]
    },
    {
      "cell_type": "markdown",
      "source": [
        "**Ques2- Write a code to find the length of the string \"Hello World\"**"
      ],
      "metadata": {
        "id": "KwkYaJkffiyE"
      }
    },
    {
      "cell_type": "code",
      "source": [
        "x = \"Hello World\"\n",
        "len(x)"
      ],
      "metadata": {
        "colab": {
          "base_uri": "https://localhost:8080/"
        },
        "id": "RKMLRMyFfu8O",
        "outputId": "bb888d45-65a3-4f93-89c8-3ab54b6949a3"
      },
      "execution_count": null,
      "outputs": [
        {
          "output_type": "execute_result",
          "data": {
            "text/plain": [
              "11"
            ]
          },
          "metadata": {},
          "execution_count": 29
        }
      ]
    },
    {
      "cell_type": "markdown",
      "source": [
        "**Ques3-Write a code to slice the first 3 characters from the string \"Python Programming\"**"
      ],
      "metadata": {
        "id": "iGI5FbZCf7cH"
      }
    },
    {
      "cell_type": "code",
      "source": [
        "x=\"Pyhton Programming\"\n",
        "x[0:3]"
      ],
      "metadata": {
        "colab": {
          "base_uri": "https://localhost:8080/",
          "height": 35
        },
        "id": "aht_Th-7gETP",
        "outputId": "91f8322b-8c43-411b-90b3-6b4a6ed92123"
      },
      "execution_count": null,
      "outputs": [
        {
          "output_type": "execute_result",
          "data": {
            "text/plain": [
              "'Pyh'"
            ],
            "application/vnd.google.colaboratory.intrinsic+json": {
              "type": "string"
            }
          },
          "metadata": {},
          "execution_count": 32
        }
      ]
    },
    {
      "cell_type": "markdown",
      "source": [
        "**Ques4 -  Write a code to convert the string \"hello\" to uppercase**"
      ],
      "metadata": {
        "id": "7kB4eXhBgf6i"
      }
    },
    {
      "cell_type": "code",
      "source": [
        "a= \"hello\"\n",
        "a.upper()"
      ],
      "metadata": {
        "colab": {
          "base_uri": "https://localhost:8080/",
          "height": 35
        },
        "id": "oVFaXmgQgv-s",
        "outputId": "a445218e-685f-471c-dbc6-b2104f1575ec"
      },
      "execution_count": null,
      "outputs": [
        {
          "output_type": "execute_result",
          "data": {
            "text/plain": [
              "'HELLO'"
            ],
            "application/vnd.google.colaboratory.intrinsic+json": {
              "type": "string"
            }
          },
          "metadata": {},
          "execution_count": 36
        }
      ]
    },
    {
      "cell_type": "markdown",
      "source": [
        "**Ques5 - Write a code to replace the word \"apple\" with \"orange\" in the string \"I like apple\"**"
      ],
      "metadata": {
        "id": "Y8D9QLMwhKF6"
      }
    },
    {
      "cell_type": "code",
      "source": [
        "a = \"i like apple\"\n",
        "a.replace(\"apple\",\"orange\")"
      ],
      "metadata": {
        "colab": {
          "base_uri": "https://localhost:8080/",
          "height": 35
        },
        "id": "mpmp-ynDhJrT",
        "outputId": "dbcb094e-44e6-46ec-ffa4-758231f2f197"
      },
      "execution_count": null,
      "outputs": [
        {
          "output_type": "execute_result",
          "data": {
            "text/plain": [
              "'i like orange'"
            ],
            "application/vnd.google.colaboratory.intrinsic+json": {
              "type": "string"
            }
          },
          "metadata": {},
          "execution_count": 37
        }
      ]
    },
    {
      "cell_type": "markdown",
      "source": [
        "**Ques6 - Write a code to create a list with numbers 1 to 5 and print it**"
      ],
      "metadata": {
        "id": "nghNjPn1h6Dj"
      }
    },
    {
      "cell_type": "code",
      "source": [
        "number = [1,2,3,4,5]\n",
        "print(number)"
      ],
      "metadata": {
        "colab": {
          "base_uri": "https://localhost:8080/"
        },
        "id": "CkcDxxhViExX",
        "outputId": "c7f3868e-4b90-4709-fe76-c01f4d6c1b7d"
      },
      "execution_count": null,
      "outputs": [
        {
          "output_type": "stream",
          "name": "stdout",
          "text": [
            "[1, 2, 3, 4, 5]\n"
          ]
        }
      ]
    },
    {
      "cell_type": "markdown",
      "source": [
        "**Ques7 -  Write a code to append the number 10 to the list [1, 2, 3, 4]**"
      ],
      "metadata": {
        "id": "T4Bcv_Ykif0W"
      }
    },
    {
      "cell_type": "code",
      "source": [
        "my_list = [1,2,3,4]\n",
        "my_list.append(10)\n",
        "print(my_list)"
      ],
      "metadata": {
        "colab": {
          "base_uri": "https://localhost:8080/"
        },
        "id": "EXs92aOoin7Q",
        "outputId": "50979718-44cd-4838-ec5b-7d1d87730ce7"
      },
      "execution_count": null,
      "outputs": [
        {
          "output_type": "stream",
          "name": "stdout",
          "text": [
            "[1, 2, 3, 4, 10]\n"
          ]
        }
      ]
    },
    {
      "cell_type": "markdown",
      "source": [
        "**Ques8- Write a code to remove the number 3 from the list [1, 2, 3, 4, 5]**"
      ],
      "metadata": {
        "id": "tz96W98airpv"
      }
    },
    {
      "cell_type": "code",
      "source": [
        "my_list= [1,2,3,4,5]\n",
        "my_list.remove(3)\n",
        "print(my_list)"
      ],
      "metadata": {
        "colab": {
          "base_uri": "https://localhost:8080/"
        },
        "id": "-yKYHMOAi0Zr",
        "outputId": "7f047563-ca89-4945-d2a7-1d0c059fa7cc"
      },
      "execution_count": null,
      "outputs": [
        {
          "output_type": "stream",
          "name": "stdout",
          "text": [
            "[1, 2, 4, 5]\n"
          ]
        }
      ]
    },
    {
      "cell_type": "markdown",
      "source": [
        "**Ques9- Write a code to access the second element in the list ['a', 'b', 'c', 'd']**"
      ],
      "metadata": {
        "id": "YRgCZfS_jLBe"
      }
    },
    {
      "cell_type": "code",
      "source": [
        "my_list= [\"a\",\"b\",\"c\",\"d\"]\n",
        "my_list[1]"
      ],
      "metadata": {
        "colab": {
          "base_uri": "https://localhost:8080/",
          "height": 35
        },
        "id": "rWxii0G_jUcQ",
        "outputId": "c780f1d2-fff3-4dbb-cf82-2b22e54c26a7"
      },
      "execution_count": null,
      "outputs": [
        {
          "output_type": "execute_result",
          "data": {
            "text/plain": [
              "'b'"
            ],
            "application/vnd.google.colaboratory.intrinsic+json": {
              "type": "string"
            }
          },
          "metadata": {},
          "execution_count": 46
        }
      ]
    },
    {
      "cell_type": "markdown",
      "source": [
        "**Ques10 -  Write a code to reverse the list [10, 20, 30, 40, 50].**"
      ],
      "metadata": {
        "id": "c8qAUZi4joDJ"
      }
    },
    {
      "cell_type": "code",
      "source": [
        "my_list=[10,20,30,40,50]\n",
        "my_list.reverse()\n",
        "print(my_list)"
      ],
      "metadata": {
        "colab": {
          "base_uri": "https://localhost:8080/"
        },
        "id": "D3FpnuTyjvIC",
        "outputId": "fd324a43-b913-43c3-eaed-f468d01e6a17"
      },
      "execution_count": null,
      "outputs": [
        {
          "output_type": "stream",
          "name": "stdout",
          "text": [
            "[50, 40, 30, 20, 10]\n"
          ]
        }
      ]
    },
    {
      "cell_type": "markdown",
      "source": [
        "**Ques11-  Write a code to create a tuple with the elements 100, 200, 300 and print it**"
      ],
      "metadata": {
        "id": "ROkcpaexmvmi"
      }
    },
    {
      "cell_type": "code",
      "source": [
        "my_tuple = (100,200,300)\n",
        "print(my_tuple)"
      ],
      "metadata": {
        "colab": {
          "base_uri": "https://localhost:8080/"
        },
        "id": "Lz3PhCl6m6Gd",
        "outputId": "0e959049-62df-4108-d0bd-2ec81f001847"
      },
      "execution_count": null,
      "outputs": [
        {
          "output_type": "stream",
          "name": "stdout",
          "text": [
            "(100, 200, 300)\n"
          ]
        }
      ]
    },
    {
      "cell_type": "markdown",
      "source": [
        "**Ques12-  Write a code to access the second-to-last element of the tuple ('red', 'green', 'blue', 'yellow').**"
      ],
      "metadata": {
        "id": "AseNA4zFnAQM"
      }
    },
    {
      "cell_type": "code",
      "source": [
        "my_tuple = ('red', 'green', 'blue', 'yellow')\n",
        "my_tuple[-2]\n"
      ],
      "metadata": {
        "colab": {
          "base_uri": "https://localhost:8080/",
          "height": 35
        },
        "id": "I7N2clbDnL8R",
        "outputId": "b8cc2cfd-0dc4-43d2-d004-2f4675eee070"
      },
      "execution_count": null,
      "outputs": [
        {
          "output_type": "execute_result",
          "data": {
            "text/plain": [
              "'blue'"
            ],
            "application/vnd.google.colaboratory.intrinsic+json": {
              "type": "string"
            }
          },
          "metadata": {},
          "execution_count": 52
        }
      ]
    },
    {
      "cell_type": "markdown",
      "source": [
        "**Ques13 - Write a code to find the minimum number in the tuple (10, 20, 5, 15).**"
      ],
      "metadata": {
        "id": "QtPe1a6anTyj"
      }
    },
    {
      "cell_type": "code",
      "source": [
        "my_tuple = (10,20,5,15)\n",
        "min(my_tuple)"
      ],
      "metadata": {
        "colab": {
          "base_uri": "https://localhost:8080/"
        },
        "id": "wo8sCUKJngAg",
        "outputId": "955a238c-358e-4872-ab6a-0be90875b51c"
      },
      "execution_count": null,
      "outputs": [
        {
          "output_type": "execute_result",
          "data": {
            "text/plain": [
              "5"
            ]
          },
          "metadata": {},
          "execution_count": 53
        }
      ]
    },
    {
      "cell_type": "markdown",
      "source": [
        "**Ques14 - Write a code to find the index of the element \"cat\" in the tuple ('dog', 'cat', 'rabbit').**"
      ],
      "metadata": {
        "id": "q9FJHbnBn7u5"
      }
    },
    {
      "cell_type": "code",
      "source": [
        "my_tuple = ('dog', 'cat', 'rabbit')\n",
        "my_tuple.index(\"cat\")"
      ],
      "metadata": {
        "colab": {
          "base_uri": "https://localhost:8080/"
        },
        "id": "jjZPGuWwoFXg",
        "outputId": "e2be17d6-eb88-4634-bf8d-4e6cb9765094"
      },
      "execution_count": null,
      "outputs": [
        {
          "output_type": "execute_result",
          "data": {
            "text/plain": [
              "1"
            ]
          },
          "metadata": {},
          "execution_count": 54
        }
      ]
    },
    {
      "cell_type": "markdown",
      "source": [
        "**Ques15 -. Write a code to create a tuple containing three different fruits and check if \"kiwi\" is in it.**"
      ],
      "metadata": {
        "id": "HV0BXq4FoNOG"
      }
    },
    {
      "cell_type": "code",
      "source": [
        "my_tuple = (\"mango\",\"kiwi\",\"banana\")\n",
        "\"kiwi\" in my_tuple"
      ],
      "metadata": {
        "colab": {
          "base_uri": "https://localhost:8080/"
        },
        "id": "DOiTu9JYoYyf",
        "outputId": "e8b2ae48-6ab2-48fb-f79b-a9b33c1b24e4"
      },
      "execution_count": null,
      "outputs": [
        {
          "output_type": "execute_result",
          "data": {
            "text/plain": [
              "True"
            ]
          },
          "metadata": {},
          "execution_count": 56
        }
      ]
    },
    {
      "cell_type": "markdown",
      "source": [
        "**Ques16 - Write a code to create a set with the elements 'a', 'b', 'c' and print it**"
      ],
      "metadata": {
        "id": "VS0KXgB5o00-"
      }
    },
    {
      "cell_type": "code",
      "source": [
        "my_set = {\"a\",\"b\",\"c\"}\n",
        "print(my_set)"
      ],
      "metadata": {
        "colab": {
          "base_uri": "https://localhost:8080/"
        },
        "id": "Djhvy1Dpo0NW",
        "outputId": "1b6727ff-3ed8-43ba-df82-f4af799bdf3e"
      },
      "execution_count": null,
      "outputs": [
        {
          "output_type": "stream",
          "name": "stdout",
          "text": [
            "{'c', 'b', 'a'}\n"
          ]
        }
      ]
    },
    {
      "cell_type": "markdown",
      "source": [
        "**Ques 17 -Write a code to clear all elements from the set {1, 2, 3, 4, 5}.**"
      ],
      "metadata": {
        "id": "sa89gAz0pFeg"
      }
    },
    {
      "cell_type": "code",
      "source": [
        "x = {1,2,3,4,5}\n",
        "x.clear()\n",
        "x"
      ],
      "metadata": {
        "colab": {
          "base_uri": "https://localhost:8080/"
        },
        "id": "YRlD6RVZpMmQ",
        "outputId": "220f766a-3595-4614-a1cf-6dcd305f9642"
      },
      "execution_count": null,
      "outputs": [
        {
          "output_type": "execute_result",
          "data": {
            "text/plain": [
              "set()"
            ]
          },
          "metadata": {},
          "execution_count": 61
        }
      ]
    },
    {
      "cell_type": "markdown",
      "source": [
        "**Ques 18- Write a code to remove the element 4 from the set {1, 2, 3, 4}.**"
      ],
      "metadata": {
        "id": "bjYvDRRxpn9X"
      }
    },
    {
      "cell_type": "code",
      "source": [
        "my_set = {1,2,3,4}\n",
        "my_set.remove(4)\n",
        "my_set"
      ],
      "metadata": {
        "colab": {
          "base_uri": "https://localhost:8080/"
        },
        "id": "7a8WvacZpwHH",
        "outputId": "7d0d81e0-785e-43e5-d01f-0e4cb8ea33d6"
      },
      "execution_count": null,
      "outputs": [
        {
          "output_type": "execute_result",
          "data": {
            "text/plain": [
              "{1, 2, 3}"
            ]
          },
          "metadata": {},
          "execution_count": 62
        }
      ]
    },
    {
      "cell_type": "markdown",
      "source": [
        "**Ques19 -Write a code to find the union of two sets {1, 2, 3} and {3, 4, 5}**"
      ],
      "metadata": {
        "id": "Yc0NN2m1p4JZ"
      }
    },
    {
      "cell_type": "code",
      "source": [
        "set1 ={1,2,3}\n",
        "set2 ={3,4,5}\n",
        "set1.union(set2)"
      ],
      "metadata": {
        "colab": {
          "base_uri": "https://localhost:8080/"
        },
        "id": "jc34-97oqCFr",
        "outputId": "b066fb08-1c0a-44ea-b59f-02b343a858d9"
      },
      "execution_count": null,
      "outputs": [
        {
          "output_type": "execute_result",
          "data": {
            "text/plain": [
              "{1, 2, 3, 4, 5}"
            ]
          },
          "metadata": {},
          "execution_count": 63
        }
      ]
    },
    {
      "cell_type": "code",
      "source": [
        "#it can also be written as :\n",
        "set1|set2"
      ],
      "metadata": {
        "colab": {
          "base_uri": "https://localhost:8080/"
        },
        "id": "XskT1wn1qL12",
        "outputId": "edd17b40-e37c-4839-ab67-341fd3f500c7"
      },
      "execution_count": null,
      "outputs": [
        {
          "output_type": "execute_result",
          "data": {
            "text/plain": [
              "{1, 2, 3, 4, 5}"
            ]
          },
          "metadata": {},
          "execution_count": 64
        }
      ]
    },
    {
      "cell_type": "markdown",
      "source": [
        "**Ques20 - . Write a code to find the intersection of two sets {1, 2, 3} and {2, 3, 4}.**"
      ],
      "metadata": {
        "id": "X4-N0sbMqVMa"
      }
    },
    {
      "cell_type": "code",
      "source": [
        "set1 ={1,2,3}\n",
        "set2 ={3,4,5}\n",
        "set1.intersection(set2)"
      ],
      "metadata": {
        "colab": {
          "base_uri": "https://localhost:8080/"
        },
        "id": "m27uRWhtqevj",
        "outputId": "4f777258-ad9b-4440-99b9-c492e63d6615"
      },
      "execution_count": null,
      "outputs": [
        {
          "output_type": "execute_result",
          "data": {
            "text/plain": [
              "{3}"
            ]
          },
          "metadata": {},
          "execution_count": 65
        }
      ]
    },
    {
      "cell_type": "code",
      "source": [
        "# it can also written as :\n",
        "set1&set2"
      ],
      "metadata": {
        "colab": {
          "base_uri": "https://localhost:8080/"
        },
        "id": "IZpSLq3jqo9G",
        "outputId": "fd1c617a-87f1-470f-d504-9babd79ffa9c"
      },
      "execution_count": null,
      "outputs": [
        {
          "output_type": "execute_result",
          "data": {
            "text/plain": [
              "{3}"
            ]
          },
          "metadata": {},
          "execution_count": 66
        }
      ]
    },
    {
      "cell_type": "markdown",
      "source": [
        "**Ques 21 - Write a code to create a dictionary with the keys \"name\", \"age\", and \"city\", and print it.**"
      ],
      "metadata": {
        "id": "tnJJLe1iqzD2"
      }
    },
    {
      "cell_type": "code",
      "source": [
        "a ={\"name\":\"moli\",\"age\":20,\"city\":\"pune\"}\n",
        "print(a)"
      ],
      "metadata": {
        "colab": {
          "base_uri": "https://localhost:8080/"
        },
        "id": "lpDiRlAtq8Rz",
        "outputId": "6296b997-585f-4103-8b3f-debab15325a4"
      },
      "execution_count": null,
      "outputs": [
        {
          "output_type": "stream",
          "name": "stdout",
          "text": [
            "{'name': 'moli', 'age': 20, 'city': 'pune'}\n"
          ]
        }
      ]
    },
    {
      "cell_type": "markdown",
      "source": [
        "**Ques22 - Write a code to add a new key-value pair \"country\": \"USA\" to the dictionary {'name': 'John', 'age': 25}**"
      ],
      "metadata": {
        "id": "E9U_tlF1rJr1"
      }
    },
    {
      "cell_type": "code",
      "source": [
        "d1 = {'name': 'John', 'age': 25}\n",
        "d2= {\"country\":\"USA\"}\n",
        "d1.update(d2)\n",
        "d1"
      ],
      "metadata": {
        "colab": {
          "base_uri": "https://localhost:8080/"
        },
        "id": "ZKA4D3BZrpmw",
        "outputId": "05b3d426-81b0-4de5-bba9-a635160f066b"
      },
      "execution_count": null,
      "outputs": [
        {
          "output_type": "execute_result",
          "data": {
            "text/plain": [
              "{'name': 'John', 'age': 25, 'country': 'USA'}"
            ]
          },
          "metadata": {},
          "execution_count": 69
        }
      ]
    },
    {
      "cell_type": "markdown",
      "source": [
        "**Ques 23 -  Write a code to access the value associated with the key \"name\" in the dictionary {'name': 'Alice', 'age': 30}**"
      ],
      "metadata": {
        "id": "-vYI-PW0r3rM"
      }
    },
    {
      "cell_type": "code",
      "source": [
        "d1 ={\"name\":\"Alice\",\"age\":30}\n",
        "d1[\"name\"]"
      ],
      "metadata": {
        "colab": {
          "base_uri": "https://localhost:8080/",
          "height": 35
        },
        "id": "dwYGTU1XsBSO",
        "outputId": "8671d338-6f3d-4f72-8295-d454c2d63815"
      },
      "execution_count": null,
      "outputs": [
        {
          "output_type": "execute_result",
          "data": {
            "text/plain": [
              "'Alice'"
            ],
            "application/vnd.google.colaboratory.intrinsic+json": {
              "type": "string"
            }
          },
          "metadata": {},
          "execution_count": 71
        }
      ]
    },
    {
      "cell_type": "markdown",
      "source": [
        "**Ques24 -  Write a code to remove the key \"age\" from the dictionary {'name': 'Bob', 'age': 22, 'city': 'New York'}.**"
      ],
      "metadata": {
        "id": "LjCn5Y36sSe3"
      }
    },
    {
      "cell_type": "code",
      "source": [
        "d1 = {\"name\":\"Bob\",\"age\":22,\"city\":\"New York\"}\n",
        "d1.pop(\"age\")\n",
        "d1"
      ],
      "metadata": {
        "colab": {
          "base_uri": "https://localhost:8080/"
        },
        "id": "sZ0vx01jsgR0",
        "outputId": "4f5b180e-4e70-494a-bdb2-10a5955e9d72"
      },
      "execution_count": null,
      "outputs": [
        {
          "output_type": "execute_result",
          "data": {
            "text/plain": [
              "{'name': 'Bob', 'city': 'New York'}"
            ]
          },
          "metadata": {},
          "execution_count": 74
        }
      ]
    },
    {
      "cell_type": "markdown",
      "source": [
        "**Ques25 -  Write a code to check if the key \"city\" exists in the dictionary {'name': 'Alice', 'city': 'Paris'}.**"
      ],
      "metadata": {
        "id": "uG1tuwtDsvYS"
      }
    },
    {
      "cell_type": "code",
      "source": [
        "d1= {\"name\":\"Alice\",\"city\":\"Paris\"}\n",
        "\"city\" in d1"
      ],
      "metadata": {
        "colab": {
          "base_uri": "https://localhost:8080/"
        },
        "id": "Fv0MWMAps7ev",
        "outputId": "0529a9ab-ef4f-4136-dcd4-6ff01109005c"
      },
      "execution_count": null,
      "outputs": [
        {
          "output_type": "execute_result",
          "data": {
            "text/plain": [
              "True"
            ]
          },
          "metadata": {},
          "execution_count": 75
        }
      ]
    },
    {
      "cell_type": "markdown",
      "source": [
        "**Ques 26-  Write a code to create a list, a tuple, and a dictionary, and print them all.**"
      ],
      "metadata": {
        "id": "UdrNERuptAxN"
      }
    },
    {
      "cell_type": "code",
      "source": [
        "my_list = [1,2,3,4]\n",
        "my_tuple = (1,2,3,4)\n",
        "my_dict = {\"name\":\"anuj\",\"age\":20}\n",
        "print(\"list:\", my_list)\n",
        "print(\"tuple:\",my_tuple)\n",
        "print(\"dictionary:\",my_dict)"
      ],
      "metadata": {
        "colab": {
          "base_uri": "https://localhost:8080/"
        },
        "id": "Fgpi3N0btKk6",
        "outputId": "f77264fd-56d7-4e5a-c1cc-00fe14b52b39"
      },
      "execution_count": null,
      "outputs": [
        {
          "output_type": "stream",
          "name": "stdout",
          "text": [
            "list: [1, 2, 3, 4]\n",
            "tuple: (1, 2, 3, 4)\n",
            "dictionary: {'name': 'anuj', 'age': 20}\n"
          ]
        }
      ]
    },
    {
      "cell_type": "markdown",
      "source": [
        "**Ques27 -Write a code to create a list of 5 random numbers between 1 and 100, sort it in ascending order,and print the result.(replaced)**"
      ],
      "metadata": {
        "id": "KFLW5uDWtz1m"
      }
    },
    {
      "cell_type": "code",
      "source": [
        "number = [4,67,38,79,95]\n",
        "number.sort()\n",
        "print(\"assending order is:\",number)"
      ],
      "metadata": {
        "colab": {
          "base_uri": "https://localhost:8080/"
        },
        "id": "S4YhnPlduJe4",
        "outputId": "b07aa13e-e33b-4aa1-c9a9-75451947643c"
      },
      "execution_count": null,
      "outputs": [
        {
          "output_type": "stream",
          "name": "stdout",
          "text": [
            "assending order is: [4, 38, 67, 79, 95]\n"
          ]
        }
      ]
    },
    {
      "cell_type": "markdown",
      "source": [
        "**Ques28 - . Write a code to create a list with strings and print the element at the third index.**"
      ],
      "metadata": {
        "id": "gtAHlTpbvAbo"
      }
    },
    {
      "cell_type": "code",
      "source": [
        "my_list= [\"name\",\"class\",\"roll\",\"grade\"]\n",
        "my_list[3]"
      ],
      "metadata": {
        "colab": {
          "base_uri": "https://localhost:8080/",
          "height": 35
        },
        "id": "hOcLEtN4vN7d",
        "outputId": "5987227d-3ae0-4458-b584-eb72829b09c7"
      },
      "execution_count": null,
      "outputs": [
        {
          "output_type": "execute_result",
          "data": {
            "text/plain": [
              "'grade'"
            ],
            "application/vnd.google.colaboratory.intrinsic+json": {
              "type": "string"
            }
          },
          "metadata": {},
          "execution_count": 79
        }
      ]
    },
    {
      "cell_type": "markdown",
      "source": [
        "**Ques29 - Write a code to combine two dictionaries into one and print the result.**"
      ],
      "metadata": {
        "id": "bA9_8kNOvhx9"
      }
    },
    {
      "cell_type": "code",
      "source": [
        "d1= {\"name\":\"ajay\",\"age\":34}\n",
        "d2= {\"hobby\":\"cricket\",\"grade\":\"a\"}\n",
        "d1.update(d2)\n",
        "d1"
      ],
      "metadata": {
        "colab": {
          "base_uri": "https://localhost:8080/"
        },
        "id": "Jfyjppbxvo7Q",
        "outputId": "9aedb17f-f299-4432-d3fe-7820fc9d1cf0"
      },
      "execution_count": null,
      "outputs": [
        {
          "output_type": "execute_result",
          "data": {
            "text/plain": [
              "{'name': 'ajay', 'age': 34, 'hobby': 'cricket', 'grade': 'a'}"
            ]
          },
          "metadata": {},
          "execution_count": 81
        }
      ]
    },
    {
      "cell_type": "markdown",
      "source": [
        "**Ques 30 -  Write a code to convert a list of strings into a set.**"
      ],
      "metadata": {
        "id": "rb4sxUaCwKqp"
      }
    },
    {
      "cell_type": "code",
      "source": [
        "my_list= [\"mango\",\"peach\",\"apple\"]\n",
        "set(my_list)"
      ],
      "metadata": {
        "colab": {
          "base_uri": "https://localhost:8080/"
        },
        "id": "hI4VtdhqwKQT",
        "outputId": "5bc7a45a-33d8-4438-f1db-f22d2d9ceb4c"
      },
      "execution_count": null,
      "outputs": [
        {
          "output_type": "execute_result",
          "data": {
            "text/plain": [
              "{'apple', 'mango', 'peach'}"
            ]
          },
          "metadata": {},
          "execution_count": 82
        }
      ]
    }
  ]
}